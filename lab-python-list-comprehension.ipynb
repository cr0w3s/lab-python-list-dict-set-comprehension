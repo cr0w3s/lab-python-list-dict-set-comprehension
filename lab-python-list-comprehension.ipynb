{
 "cells": [
  {
   "cell_type": "markdown",
   "id": "25d7736c-ba17-4aff-b6bb-66eba20fbf4e",
   "metadata": {},
   "source": [
    "# Lab | List, Dict and Set Comprehension"
   ]
  },
  {
   "cell_type": "markdown",
   "id": "7dd3cbde-675a-4b81-92c3-f728846dbe06",
   "metadata": {},
   "source": [
    "## Exercise: Managing Customer Orders Optimized with Comprehension"
   ]
  },
  {
   "cell_type": "markdown",
   "id": "5d500160-2fb7-4777-b5e4-09d45ebaf328",
   "metadata": {},
   "source": [
    "In the previous exercise, you developed a program to manage customer orders and inventory. Now, let's take it a step further and incorporate comprehension into your code.\n",
    "\n",
    "Follow the steps below to complete the exercise:\n",
    "\n",
    "1. Review your code from the previous exercise and identify areas where you can apply comprehension to simplify and streamline your code. \n",
    "\n",
    "    - *Hint: Apply it to initialize inventory, updating the inventory and printing the updated inventory.*\n",
    "    \n",
    "    - For example, in initializing the inventory, we could have:\n",
    "    \n",
    "        ```python\n",
    "        def initialize_inventory(products):\n",
    "            inventory = {product: int(input(f\"Enter the quantity of {product}s available: \")) for product in products}\n",
    "            return inventory\n",
    "\n",
    "        ```\n",
    "<br>\n",
    "    \n",
    "    \n",
    "2. Modify the function get_customer_orders so it prompts the user to enter the number of customer orders and gathers the product names using a loop and user input. Use comprehension.\n",
    "\n",
    "3. Add a new function to calculate the total price of the customer order. For each product in customer_orders, prompt the user to enter the price of that product. Use comprehension to calculate the total price. Note: assume that the user can only have 1 unit of each product.\n",
    "\n",
    "4. Modify the update_inventory function to remove the product from the inventory if its quantity becomes zero after fulfilling the customer orders. Use comprehension to filter out the products with a quantity of zero from the inventory.\n",
    "\n",
    "5. Print the total price of the customer order.\n",
    "\n",
    "Your code should produce output similar to the following:\n",
    "\n",
    "```python\n",
    "Enter the quantity of t-shirts available:  5\n",
    "Enter the quantity of mugs available:  4\n",
    "Enter the quantity of hats available:  3\n",
    "Enter the quantity of books available:  2\n",
    "Enter the quantity of keychains available:  1\n",
    "Enter the number of customer orders:  2\n",
    "Enter the name of a product that a customer wants to order:  hat\n",
    "Enter the name of a product that a customer wants to order:  keychain\n",
    "\n",
    "Order Statistics:\n",
    "Total Products Ordered: 2\n",
    "Percentage of Unique Products Ordered: 40.0\n",
    "\n",
    "Updated Inventory:\n",
    "t-shirt: 5\n",
    "mug: 4\n",
    "hat: 2\n",
    "book: 2\n",
    "Enter the price of keychain:  5\n",
    "Enter the price of hat:  10\n",
    "Total Price: 15.0\n",
    "\n",
    "```\n"
   ]
  },
  {
   "cell_type": "code",
   "execution_count": 34,
   "id": "7f9bcfa8-844e-4ab9-8eb1-19958f9742da",
   "metadata": {},
   "outputs": [],
   "source": [
    "# defining variables & more\n",
    "products = [\"t-shirt\",\"mug\",\"hat\",\"book\",\"keychain\"]\n"
   ]
  },
  {
   "cell_type": "code",
   "execution_count": 35,
   "id": "c0636825-2632-47e3-b9f4-1e7e55d572b2",
   "metadata": {},
   "outputs": [],
   "source": [
    "# defining a function to initialize inventory\n",
    "\n",
    "def initialize_inventory(products):\n",
    "    inventory = {product: int(input(f\"Please insert the current inventory for {product}\")) for product in products}\n",
    "    return inventory\n",
    "    \n",
    "    #the previous code here was\n",
    "    #inventory = {}\n",
    "    # for prod in products:\n",
    "    #     input_not_valid = True\n",
    "    #     while input_not_valid:\n",
    "    #         user_input = input(f\"Please insert the current inventory for {prod}\")\n",
    "    #         try:\n",
    "    #             ncheck = int(user_input)\n",
    "    #             inventory[prod] = ncheck\n",
    "    #             input_not_valid = False\n",
    "    #         except ValueError:\n",
    "    #             print(\"That's not a valid number, please input a whole number\")\n",
    "    #return inventory"
   ]
  },
  {
   "cell_type": "code",
   "execution_count": 37,
   "id": "b530d072-c684-45a4-865f-6b969deb3f06",
   "metadata": {},
   "outputs": [
    {
     "name": "stdin",
     "output_type": "stream",
     "text": [
      "Please insert the current inventory for t-shirt 1\n",
      "Please insert the current inventory for mug 1\n",
      "Please insert the current inventory for hat 1\n",
      "Please insert the current inventory for book 1\n",
      "Please insert the current inventory for keychain 1\n"
     ]
    }
   ],
   "source": [
    "# checking that the initialize_inventory function works\n",
    "# since this is a function, that means I can work with different product lists in the same code\n",
    "#     ie, say there's the 'products' list as defined in first code block in addition to another list of products in the same code base\n",
    "\n",
    "# look at comments in following two code blocks; same logic as was done to 'cust_orders' / 'customer_orders' is done here with 'inventory'\n",
    "inventory = initialize_inventory(products)"
   ]
  },
  {
   "cell_type": "code",
   "execution_count": 38,
   "id": "a7c04975-bdf1-471e-b0a1-b1dcb7772c36",
   "metadata": {},
   "outputs": [],
   "source": [
    "#previous code\n",
    "# def get_customer_orders():\n",
    "#     cust_orders = set()\n",
    "#     orders = \"yes\"\n",
    "    \n",
    "#     while orders == \"yes\":\n",
    "#         item = input(\"Which of the following items would you like to order: t-shirt, mug, hat, book, or keychain?\").lower()\n",
    "#         if item in products:\n",
    "#             cust_orders.add(item)\n",
    "#         else:\n",
    "#             print(\"Input is invalid, only items from the list can be chosen\")\n",
    "#         orders = input(\"Would you like to order another product, yes or no?\").lower()\n",
    "\n",
    "#     print(\"Thank you, your order is complete =]\")\n",
    "#     return cust_orders\n",
    "\n",
    "#cust_orders was added as a local variable in order to ensure it doesn't retain values from previous calls \n",
    "#(removed the variable customer_orders from the first cell and defined it below in order to have it somewhere defined "
   ]
  },
  {
   "cell_type": "code",
   "execution_count": 39,
   "id": "7fb5e8af-7187-45a4-9f02-0457e4af7f0a",
   "metadata": {},
   "outputs": [],
   "source": [
    "def get_customer_orders():\n",
    "    prod_order = int(input(\"How many products do you want to order?\"))\n",
    "\n",
    "    cust_orders = {input(\"Which of the following items would you like to order: t-shirt, mug, hat, book, or keychain?\").lower() for item in range(prod_order)}\n",
    "    return cust_orders"
   ]
  },
  {
   "cell_type": "code",
   "execution_count": 40,
   "id": "9ce4bef5-ba18-472e-b7b4-a330edd2b4f1",
   "metadata": {},
   "outputs": [
    {
     "name": "stdin",
     "output_type": "stream",
     "text": [
      "How many products do you want to order? 2\n",
      "Which of the following items would you like to order: t-shirt, mug, hat, book, or keychain? mug\n",
      "Which of the following items would you like to order: t-shirt, mug, hat, book, or keychain? book\n"
     ]
    }
   ],
   "source": [
    "# checking that the get_customer_orders function works & defining the customer_orders for the first time\n",
    "# as before there were no customer orders\n",
    "customer_orders = get_customer_orders() "
   ]
  },
  {
   "cell_type": "code",
   "execution_count": 41,
   "id": "723006b8-c181-45e4-a0ce-54cbe3bc6d02",
   "metadata": {},
   "outputs": [
    {
     "name": "stdout",
     "output_type": "stream",
     "text": [
      "{'book', 'mug'}\n"
     ]
    }
   ],
   "source": [
    "print(customer_orders)"
   ]
  },
  {
   "cell_type": "code",
   "execution_count": 42,
   "id": "eae6d740-a1d7-4216-8d02-8ab8541f220e",
   "metadata": {},
   "outputs": [],
   "source": [
    "# defining a function to update the inventory\n",
    "\n",
    "def update_inventory(inventory, customer_orders):\n",
    "    inventory = {prod:(val -1 if prod in customer_orders else val) for prod, val in inventory.items()}\n",
    "    inventory = {prod:val for prod, val in inventory.items() if val != 0}\n",
    "    return inventory\n",
    "    \n",
    "    # previous for loop for reference\n",
    "    # for prod in inventory.keys():\n",
    "    #     if prod in customer_orders:\n",
    "    #         inventory[prod]-=1"
   ]
  },
  {
   "cell_type": "code",
   "execution_count": 43,
   "id": "45f741c1-a60f-403f-997d-76778c61ef60",
   "metadata": {},
   "outputs": [
    {
     "name": "stdout",
     "output_type": "stream",
     "text": [
      "{'t-shirt': 1, 'hat': 1, 'keychain': 1}\n"
     ]
    }
   ],
   "source": [
    "# checking that the update_inventory function works & also calling it so the other functions will work\n",
    "inventory = update_inventory(inventory, customer_orders)\n",
    "print(inventory)"
   ]
  },
  {
   "cell_type": "code",
   "execution_count": 44,
   "id": "93626a60-6a23-426e-82a2-7263212c9800",
   "metadata": {},
   "outputs": [],
   "source": [
    "def calculate_total_price(customer_orders):\n",
    "    prices = {article:float(input(f\"Enter monetary price (eg. 12.50)for {article}\")) for article in customer_orders}\n",
    "    total_prices = sum(prices.values())\n",
    "    return total_prices"
   ]
  },
  {
   "cell_type": "code",
   "execution_count": 58,
   "id": "b0b6f6ee-e538-419c-a183-7a60aed56167",
   "metadata": {},
   "outputs": [
    {
     "name": "stdin",
     "output_type": "stream",
     "text": [
      "Enter monetary price (eg. 12.50)for book 23\n",
      "Enter monetary price (eg. 12.50)for mug 44\n"
     ]
    },
    {
     "name": "stdout",
     "output_type": "stream",
     "text": [
      "Your total order is: 67.0 $\n"
     ]
    }
   ],
   "source": [
    "total_price = calculate_total_price(customer_orders)\n",
    "print(\"Your total order is:\",total_price,\"$\")"
   ]
  },
  {
   "cell_type": "code",
   "execution_count": 46,
   "id": "2378f33a-cb60-46e2-90af-5e02d0c7fda7",
   "metadata": {},
   "outputs": [],
   "source": [
    "# defining a function to calculate order statistics\n",
    "\n",
    "def calculate_order_statistics(customer_orders,inventory):\n",
    "    total_order = len(customer_orders)\n",
    "    total_ratio = total_order/sum(inventory.values())\n",
    "    return total_order, total_ratio"
   ]
  },
  {
   "cell_type": "code",
   "execution_count": 47,
   "id": "578fb0d6-1ff6-4f04-bcd0-669ac3ce2c15",
   "metadata": {},
   "outputs": [
    {
     "data": {
      "text/plain": [
       "(2, 0.6666666666666666)"
      ]
     },
     "execution_count": 47,
     "metadata": {},
     "output_type": "execute_result"
    }
   ],
   "source": [
    "# checking that the calculate_order_statistics function works\n",
    "\n",
    "calculate_order_statistics(customer_orders, inventory)"
   ]
  },
  {
   "cell_type": "code",
   "execution_count": 48,
   "id": "974cf903-48d0-4be6-bb1d-2def3effccac",
   "metadata": {},
   "outputs": [],
   "source": [
    "# if you want to make the total ratio look like a percentage\n",
    "\n",
    "def percentify_order_stats(customer_orders, inventory):\n",
    "    a, b = calculate_order_statistics(customer_orders, inventory)\n",
    "    return (a, f\"{int(b*100)}%\")\n",
    "\n",
    "# breakdown of what is happening here -> when working with percentages, \n",
    "# it is not good practice to force a format (eg 1% or 1 when the exact number is 0,012) cause then you can't work with it later on\n",
    "# so here is a funtion to make the values mean something more readible as a viewer of the code.\n",
    "# Since we know that calculate_order_statistics returns the two parameters customer_order & inventory,\n",
    "# we can define 2 dummy variables, a & b, to take on the function parameter output, this way can play with how to return the outcome...\n",
    "# ... to be more visual pleasing & understandable -> to explain this part: f\"{int(b*100)}%\" step by step\n",
    "# we are using a formatting string so that it can be populated by the funcion values, otherwise a normal string would 'hard code'\n",
    "#    and we have to use a string because you cannot add an integer and a string, so \"%\", together\n",
    "# we use int() because the total_ratio parameter is a float"
   ]
  },
  {
   "cell_type": "code",
   "execution_count": 49,
   "id": "dc3de210-fb41-4838-a531-323a9784eb57",
   "metadata": {},
   "outputs": [
    {
     "data": {
      "text/plain": [
       "(2, '66%')"
      ]
     },
     "execution_count": 49,
     "metadata": {},
     "output_type": "execute_result"
    }
   ],
   "source": [
    "# checking that the percentify_order_stats function works\n",
    "\n",
    "percentify_order_stats(customer_orders, inventory)"
   ]
  },
  {
   "cell_type": "code",
   "execution_count": 50,
   "id": "988a9cf1-d74e-4316-ae87-a595cc2733fc",
   "metadata": {},
   "outputs": [],
   "source": [
    "# defining a function to print order statistics\n",
    "\n",
    "def print_order_statistics(customer_orders, inventory):\n",
    "    var1, var2 = percentify_order_stats(customer_orders, inventory)\n",
    "    print(\"Order Statistics:\\nTotal Products Ordered:\",var1,\"\\nPercentage of Products Ordered:\",var2)\n",
    "\n",
    "#same as code block above, var1 & var2 are just placeholders for the two-variabled-output that comes from the print_order_statistics func."
   ]
  },
  {
   "cell_type": "code",
   "execution_count": 51,
   "id": "1b8129e6-6a88-4ec3-a006-5f6bc2ca0b2a",
   "metadata": {},
   "outputs": [
    {
     "name": "stdout",
     "output_type": "stream",
     "text": [
      "Order Statistics:\n",
      "Total Products Ordered: 2 \n",
      "Percentage of Products Ordered: 66%\n"
     ]
    }
   ],
   "source": [
    "# checking that the print_order_statistics function works\n",
    "print_order_statistics(customer_orders, inventory)"
   ]
  },
  {
   "cell_type": "code",
   "execution_count": 54,
   "id": "b0a2aa98-99d9-4d79-abaf-a5cc55ed33b2",
   "metadata": {},
   "outputs": [],
   "source": [
    "def print_updated_inventory(inventory):\n",
    "    print_update = [f\"The quantity of {product} left available is {inventory[product]}\" for product in inventory.keys()]\n",
    "    return print_update\n",
    "    \n",
    "    # previous code\n",
    "    # for quant in products:\n",
    "    #     print(f\"The quantity of {quant} left available is {inventory[quant]}\\n\")"
   ]
  },
  {
   "cell_type": "code",
   "execution_count": 55,
   "id": "4aede4c3-ba7b-4f98-a49a-fac7cb274235",
   "metadata": {},
   "outputs": [
    {
     "data": {
      "text/plain": [
       "['The quantity of t-shirt left available is 1',\n",
       " 'The quantity of hat left available is 1',\n",
       " 'The quantity of keychain left available is 1']"
      ]
     },
     "execution_count": 55,
     "metadata": {},
     "output_type": "execute_result"
    }
   ],
   "source": [
    "# checking that the print_order_statistics function works\n",
    "print_updated_inventory(inventory)"
   ]
  },
  {
   "cell_type": "code",
   "execution_count": null,
   "id": "c002a55a-6e44-4fe8-b01b-2689929e35b7",
   "metadata": {},
   "outputs": [],
   "source": []
  },
  {
   "cell_type": "code",
   "execution_count": null,
   "id": "b7d4a698-cfae-454b-ae7c-7d2fb0915808",
   "metadata": {},
   "outputs": [],
   "source": []
  },
  {
   "cell_type": "code",
   "execution_count": null,
   "id": "414e61db-0d47-4c49-917a-be2302b7d081",
   "metadata": {},
   "outputs": [],
   "source": []
  }
 ],
 "metadata": {
  "kernelspec": {
   "display_name": "Python 3 (ipykernel)",
   "language": "python",
   "name": "python3"
  },
  "language_info": {
   "codemirror_mode": {
    "name": "ipython",
    "version": 3
   },
   "file_extension": ".py",
   "mimetype": "text/x-python",
   "name": "python",
   "nbconvert_exporter": "python",
   "pygments_lexer": "ipython3",
   "version": "3.11.9"
  }
 },
 "nbformat": 4,
 "nbformat_minor": 5
}
